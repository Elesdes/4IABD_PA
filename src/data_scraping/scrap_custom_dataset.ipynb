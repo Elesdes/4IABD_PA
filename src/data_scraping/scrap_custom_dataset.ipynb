{
 "cells": [
  {
   "cell_type": "markdown",
   "source": [
    "**Load Libs**"
   ],
   "metadata": {
    "collapsed": false
   }
  },
  {
   "cell_type": "code",
   "execution_count": 29,
   "metadata": {
    "collapsed": true,
    "ExecuteTime": {
     "start_time": "2023-04-07T14:36:24.594444Z",
     "end_time": "2023-04-07T14:36:24.620442Z"
    }
   },
   "outputs": [],
   "source": [
    "import os\n",
    "import requests\n",
    "import pandas as pd\n",
    "import time\n",
    "import json"
   ]
  },
  {
   "cell_type": "markdown",
   "source": [
    "**Paths**"
   ],
   "metadata": {
    "collapsed": false
   }
  },
  {
   "cell_type": "code",
   "execution_count": 30,
   "outputs": [],
   "source": [
    "DATA = '..\\\\..\\\\data'\n",
    "TOKEN = f'{DATA}\\\\token'\n",
    "TO_SCRAP = f'{DATA}\\\\to_scrap'\n",
    "SCRAPED = f'{DATA}\\\\scraped'\n",
    "ERRORS = f'{DATA}\\\\errors'"
   ],
   "metadata": {
    "collapsed": false,
    "ExecuteTime": {
     "start_time": "2023-04-07T14:36:24.602445Z",
     "end_time": "2023-04-07T14:36:24.645443Z"
    }
   }
  },
  {
   "cell_type": "code",
   "execution_count": 31,
   "outputs": [
    {
     "name": "stdout",
     "output_type": "stream",
     "text": [
      "C:\\Users\\juanm\\OneDrive\\Bureau\\ESGI - Projets\\4IABD\\Projet Annuel\\data\\token\n"
     ]
    }
   ],
   "source": [
    "print(os.path.abspath(TOKEN))"
   ],
   "metadata": {
    "collapsed": false,
    "ExecuteTime": {
     "start_time": "2023-04-07T14:36:24.615445Z",
     "end_time": "2023-04-07T14:36:24.646444Z"
    }
   }
  },
  {
   "cell_type": "markdown",
   "source": [
    "**Generate Token For Spotify API Requests**"
   ],
   "metadata": {
    "collapsed": false
   }
  },
  {
   "cell_type": "code",
   "execution_count": 32,
   "outputs": [],
   "source": [
    "# Generate token\n",
    "def generate_token() -> str:\n",
    "    f = open(f'{TOKEN}\\\\auth_spotify_api.json')\n",
    "    auth_spotify_api = json.load(f)\n",
    "    response = requests.post('https://accounts.spotify.com/api/token',\n",
    "                             data={\n",
    "                                 'Content_type': 'application/x-www-form-urlencoded',\n",
    "                                 'grant_type': 'client_credentials',\n",
    "                                 'client_id': auth_spotify_api.get('client_id'),\n",
    "                                 'client_secret': auth_spotify_api.get('client_secret')\n",
    "                             }).json()['access_token']\n",
    "    return response"
   ],
   "metadata": {
    "collapsed": false,
    "ExecuteTime": {
     "start_time": "2023-04-07T14:36:24.633442Z",
     "end_time": "2023-04-07T14:36:24.647441Z"
    }
   }
  },
  {
   "cell_type": "code",
   "execution_count": 33,
   "outputs": [],
   "source": [
    "def regen_token(token: str, timestamp: float) -> tuple[str, float]:\n",
    "    t = time.time()\n",
    "    if t - timestamp >= 3600:\n",
    "        return generate_token(), t\n",
    "    return token, timestamp"
   ],
   "metadata": {
    "collapsed": false,
    "ExecuteTime": {
     "start_time": "2023-04-07T14:36:24.649446Z",
     "end_time": "2023-04-07T14:36:24.676954Z"
    }
   }
  },
  {
   "cell_type": "code",
   "execution_count": 34,
   "outputs": [],
   "source": [
    "spotify_api = 'https://api.spotify.com/v1'"
   ],
   "metadata": {
    "collapsed": false,
    "ExecuteTime": {
     "start_time": "2023-04-07T14:36:24.665443Z",
     "end_time": "2023-04-07T14:36:24.709049Z"
    }
   }
  },
  {
   "cell_type": "markdown",
   "source": [
    "**Load Dataset To Scrap**"
   ],
   "metadata": {
    "collapsed": false
   }
  },
  {
   "cell_type": "code",
   "execution_count": 35,
   "outputs": [],
   "source": [
    "df = pd.read_csv(f'{TO_SCRAP}\\\\custom_music_dataset.csv')"
   ],
   "metadata": {
    "collapsed": false,
    "ExecuteTime": {
     "start_time": "2023-04-07T14:36:24.681056Z",
     "end_time": "2023-04-07T14:36:24.719052Z"
    }
   }
  },
  {
   "cell_type": "markdown",
   "source": [
    "**Retrieve Dates And SongID**"
   ],
   "metadata": {
    "collapsed": false
   }
  },
  {
   "cell_type": "code",
   "execution_count": 36,
   "outputs": [],
   "source": [
    "# Create empty csv with columns\n",
    "pd.DataFrame({\n",
    "    'artist_name': pd.Series(dtype='str'),\n",
    "    'track_name': pd.Series(dtype='str'),\n",
    "    'release_date': pd.Series(dtype='str'),\n",
    "    'genre': pd.Series(dtype='str'),\n",
    "    'spotify_id': pd.Series(dtype='str')\n",
    "}).to_csv(f'{SCRAPED}\\\\complete_custom_dataset.csv', index=False)"
   ],
   "metadata": {
    "collapsed": false,
    "ExecuteTime": {
     "start_time": "2023-04-07T14:36:24.714049Z",
     "end_time": "2023-04-07T14:36:24.727052Z"
    }
   }
  },
  {
   "cell_type": "code",
   "execution_count": 43,
   "outputs": [
    {
     "name": "stdout",
     "output_type": "stream",
     "text": [
      "Too Many Request\n"
     ]
    }
   ],
   "source": [
    "timestamp = time.time()\n",
    "token = generate_token()\n",
    "for rows in df.values:\n",
    "    token, timestamp = regen_token(token, timestamp)\n",
    "    response = requests.get(f'{spotify_api}/search?q=track:{rows[0]}%20artist:{rows[1]}&type=track',\n",
    "                            headers={\n",
    "                                'Authorization': f'Bearer {token}'\n",
    "                            })\n",
    "    if response.status_code == 429:\n",
    "        print('Too Many Request')\n",
    "        break\n",
    "    if response.status_code == 200 and response.json()['tracks']['total'] > 0:\n",
    "        album_dict = response.json()['tracks']['items'][0]['album']\n",
    "        release_date = f\"{str(sorted([int(data['album']['release_date'][:4]) for data in response.json()['tracks']['items']])[0])[:3]}0\"\n",
    "        pd.DataFrame({'artist_name': rows[1],\n",
    "                      'track_name': rows[0],\n",
    "                      'release_date': release_date,\n",
    "                      'genre': album_dict['genres'][0] if 'genres' in album_dict\n",
    "                      else '',\n",
    "                      'spotify_id': response.json()['tracks']['items'][0]['id']}, index=[0]) \\\n",
    "            .to_csv(f'{SCRAPED}\\\\complete_custom_dataset.csv', index=False, header=False, mode='a')\n",
    "    else:\n",
    "        pd.DataFrame({'artist_name': rows[1],\n",
    "                      'track_name': rows[0],\n",
    "                      'release_date': '',\n",
    "                      'genre': '',\n",
    "                      'error_type': response.status_code}, index=[0]) \\\n",
    "            .to_csv(f'{ERRORS}\\\\error_scrapping_custom.csv', index=False, header=False, mode='a')"
   ],
   "metadata": {
    "collapsed": false,
    "ExecuteTime": {
     "start_time": "2023-04-07T14:43:17.108271Z",
     "end_time": "2023-04-07T15:30:52.897437Z"
    }
   }
  }
 ],
 "metadata": {
  "kernelspec": {
   "display_name": "Python 3",
   "language": "python",
   "name": "python3"
  },
  "language_info": {
   "codemirror_mode": {
    "name": "ipython",
    "version": 2
   },
   "file_extension": ".py",
   "mimetype": "text/x-python",
   "name": "python",
   "nbconvert_exporter": "python",
   "pygments_lexer": "ipython2",
   "version": "2.7.6"
  }
 },
 "nbformat": 4,
 "nbformat_minor": 0
}
