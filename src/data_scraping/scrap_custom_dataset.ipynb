{
 "cells": [
  {
   "cell_type": "markdown",
   "metadata": {
    "collapsed": false
   },
   "source": [
    "**Load Libs**"
   ]
  },
  {
   "cell_type": "code",
   "execution_count": 29,
   "metadata": {
    "ExecuteTime": {
     "end_time": "2023-04-07T14:36:24.620442Z",
     "start_time": "2023-04-07T14:36:24.594444Z"
    },
    "collapsed": true
   },
   "outputs": [],
   "source": [
    "import os\n",
    "import requests\n",
    "import pandas as pd\n",
    "import time\n",
    "import json"
   ]
  },
  {
   "cell_type": "markdown",
   "metadata": {
    "collapsed": false
   },
   "source": [
    "**Paths**"
   ]
  },
  {
   "cell_type": "code",
   "execution_count": 30,
   "metadata": {
    "ExecuteTime": {
     "end_time": "2023-04-07T14:36:24.645443Z",
     "start_time": "2023-04-07T14:36:24.602445Z"
    },
    "collapsed": false
   },
   "outputs": [],
   "source": [
    "DATA = '..\\\\..\\\\data'\n",
    "TOKEN = f'{DATA}\\\\token'\n",
    "TO_SCRAP = f'{DATA}\\\\to_scrap'\n",
    "SCRAPED = f'{DATA}\\\\scraped'\n",
    "ERRORS = f'{DATA}\\\\errors'"
   ]
  },
  {
   "cell_type": "code",
   "execution_count": 31,
   "metadata": {
    "ExecuteTime": {
     "end_time": "2023-04-07T14:36:24.646444Z",
     "start_time": "2023-04-07T14:36:24.615445Z"
    },
    "collapsed": false
   },
   "outputs": [
    {
     "name": "stdout",
     "output_type": "stream",
     "text": [
      "C:\\Users\\juanm\\OneDrive\\Bureau\\ESGI - Projets\\4IABD\\Projet Annuel\\data\\token\n"
     ]
    }
   ],
   "source": [
    "print(os.path.abspath(TOKEN))"
   ]
  },
  {
   "cell_type": "markdown",
   "metadata": {
    "collapsed": false
   },
   "source": [
    "**Generate Token For Spotify API Requests**"
   ]
  },
  {
   "cell_type": "code",
   "execution_count": 32,
   "metadata": {
    "ExecuteTime": {
     "end_time": "2023-04-07T14:36:24.647441Z",
     "start_time": "2023-04-07T14:36:24.633442Z"
    },
    "collapsed": false
   },
   "outputs": [],
   "source": [
    "# Generate token\n",
    "def generate_token() -> str:\n",
    "    f = open(f'{TOKEN}\\\\auth_spotify_api.json')\n",
    "    auth_spotify_api = json.load(f)\n",
    "    return requests.post(\n",
    "        'https://accounts.spotify.com/api/token',\n",
    "        data={\n",
    "            'Content_type': 'application/x-www-form-urlencoded',\n",
    "            'grant_type': 'client_credentials',\n",
    "            'client_id': auth_spotify_api.get('client_id'),\n",
    "            'client_secret': auth_spotify_api.get('client_secret'),\n",
    "        },\n",
    "    ).json()['access_token']"
   ]
  },
  {
   "cell_type": "code",
   "execution_count": 33,
   "metadata": {
    "ExecuteTime": {
     "end_time": "2023-04-07T14:36:24.676954Z",
     "start_time": "2023-04-07T14:36:24.649446Z"
    },
    "collapsed": false
   },
   "outputs": [],
   "source": [
    "def regen_token(token: str, timestamp: float) -> tuple[str, float]:\n",
    "    t = time.time()\n",
    "    return (generate_token(), t) if t - timestamp >= 3600 else (token, timestamp)"
   ]
  },
  {
   "cell_type": "code",
   "execution_count": 34,
   "metadata": {
    "ExecuteTime": {
     "end_time": "2023-04-07T14:36:24.709049Z",
     "start_time": "2023-04-07T14:36:24.665443Z"
    },
    "collapsed": false
   },
   "outputs": [],
   "source": [
    "spotify_api = 'https://api.spotify.com/v1'"
   ]
  },
  {
   "cell_type": "markdown",
   "metadata": {
    "collapsed": false
   },
   "source": [
    "**Load Dataset To Scrap**"
   ]
  },
  {
   "cell_type": "code",
   "execution_count": 35,
   "metadata": {
    "ExecuteTime": {
     "end_time": "2023-04-07T14:36:24.719052Z",
     "start_time": "2023-04-07T14:36:24.681056Z"
    },
    "collapsed": false
   },
   "outputs": [],
   "source": [
    "df = pd.read_csv(f'{TO_SCRAP}\\\\custom_music_dataset.csv')"
   ]
  },
  {
   "cell_type": "markdown",
   "metadata": {
    "collapsed": false
   },
   "source": [
    "**Retrieve Dates And SongID**"
   ]
  },
  {
   "cell_type": "code",
   "execution_count": 36,
   "metadata": {
    "ExecuteTime": {
     "end_time": "2023-04-07T14:36:24.727052Z",
     "start_time": "2023-04-07T14:36:24.714049Z"
    },
    "collapsed": false
   },
   "outputs": [],
   "source": [
    "# Create empty csv with columns\n",
    "pd.DataFrame({\n",
    "    'artist_name': pd.Series(dtype='str'),\n",
    "    'track_name': pd.Series(dtype='str'),\n",
    "    'release_date': pd.Series(dtype='str'),\n",
    "    'genre': pd.Series(dtype='str'),\n",
    "    'spotify_id': pd.Series(dtype='str')\n",
    "}).to_csv(f'{SCRAPED}\\\\complete_custom_dataset.csv', index=False)"
   ]
  },
  {
   "cell_type": "code",
   "execution_count": 43,
   "metadata": {
    "ExecuteTime": {
     "end_time": "2023-04-07T15:30:52.897437Z",
     "start_time": "2023-04-07T14:43:17.108271Z"
    },
    "collapsed": false
   },
   "outputs": [
    {
     "name": "stdout",
     "output_type": "stream",
     "text": [
      "Too Many Request\n"
     ]
    }
   ],
   "source": [
    "timestamp = time.time()\n",
    "token = generate_token()\n",
    "for rows in df.values:\n",
    "    token, timestamp = regen_token(token, timestamp)\n",
    "    response = requests.get(f'{spotify_api}/search?q=track:{rows[0]}%20artist:{rows[1]}&type=track',\n",
    "                            headers={\n",
    "                                'Authorization': f'Bearer {token}'\n",
    "                            })\n",
    "    if response.status_code == 429:\n",
    "        print('Too Many Request')\n",
    "        break\n",
    "    if response.status_code == 200 and response.json()['tracks']['total'] > 0:\n",
    "        album_dict = response.json()['tracks']['items'][0]['album']\n",
    "        release_date = f\"{str(sorted([int(data['album']['release_date'][:4]) for data in response.json()['tracks']['items']])[0])[:3]}0\"\n",
    "        pd.DataFrame({'artist_name': rows[1],\n",
    "                      'track_name': rows[0],\n",
    "                      'release_date': release_date,\n",
    "                      'genre': album_dict['genres'][0] if 'genres' in album_dict\n",
    "                      else '',\n",
    "                      'spotify_id': response.json()['tracks']['items'][0]['id']}, index=[0]) \\\n",
    "            .to_csv(f'{SCRAPED}\\\\complete_custom_dataset.csv', index=False, header=False, mode='a')\n",
    "    else:\n",
    "        pd.DataFrame({'artist_name': rows[1],\n",
    "                      'track_name': rows[0],\n",
    "                      'release_date': '',\n",
    "                      'genre': '',\n",
    "                      'error_type': response.status_code}, index=[0]) \\\n",
    "            .to_csv(f'{ERRORS}\\\\error_scrapping_custom.csv', index=False, header=False, mode='a')"
   ]
  }
 ],
 "metadata": {
  "kernelspec": {
   "display_name": "Python 3",
   "language": "python",
   "name": "python3"
  },
  "language_info": {
   "codemirror_mode": {
    "name": "ipython",
    "version": 2
   },
   "file_extension": ".py",
   "mimetype": "text/x-python",
   "name": "python",
   "nbconvert_exporter": "python",
   "pygments_lexer": "ipython2",
   "version": "2.7.6"
  }
 },
 "nbformat": 4,
 "nbformat_minor": 0
}
