{
 "cells": [
  {
   "cell_type": "code",
   "execution_count": 4,
   "metadata": {
    "collapsed": true,
    "ExecuteTime": {
     "start_time": "2023-04-05T14:10:16.659494Z",
     "end_time": "2023-04-05T14:10:16.956730Z"
    }
   },
   "outputs": [],
   "source": [
    "import os\n",
    "import time\n",
    "import pandas as pd\n",
    "import requests\n",
    "import json"
   ]
  },
  {
   "cell_type": "markdown",
   "source": [
    "**Paths**"
   ],
   "metadata": {
    "collapsed": false
   }
  },
  {
   "cell_type": "code",
   "execution_count": 9,
   "outputs": [],
   "source": [
    "DATA = '..\\\\..\\\\data'\n",
    "TOKEN = f'{DATA}\\\\token'\n",
    "TO_SCRAP = f'{DATA}\\\\to_scrap'\n",
    "SCRAPED = f'{DATA}\\\\scraped'\n",
    "ERRORS = f'{DATA}\\\\errors'"
   ],
   "metadata": {
    "collapsed": false,
    "ExecuteTime": {
     "start_time": "2023-04-05T14:13:13.290320Z",
     "end_time": "2023-04-05T14:13:13.295318Z"
    }
   }
  },
  {
   "cell_type": "code",
   "execution_count": 10,
   "outputs": [
    {
     "name": "stdout",
     "output_type": "stream",
     "text": [
      "C:\\Users\\juanm\\OneDrive\\Bureau\\ESGI - Projets\\4IABD\\Projet Annuel\\data\\token\n"
     ]
    }
   ],
   "source": [
    "print(os.path.abspath(TOKEN))"
   ],
   "metadata": {
    "collapsed": false,
    "ExecuteTime": {
     "start_time": "2023-04-05T14:13:14.123184Z",
     "end_time": "2023-04-05T14:13:14.139187Z"
    }
   }
  },
  {
   "cell_type": "markdown",
   "source": [
    "**Load Dataset**"
   ],
   "metadata": {
    "collapsed": false
   }
  },
  {
   "cell_type": "code",
   "execution_count": 227,
   "outputs": [],
   "source": [
    "df = pd.read_csv('data/dataset_to_erase.csv', usecols=['artist_name', 'track_name', 'release_date', 'genre'])"
   ],
   "metadata": {
    "collapsed": false
   }
  },
  {
   "cell_type": "code",
   "execution_count": 228,
   "outputs": [
    {
     "data": {
      "text/plain": "(28372, 4)"
     },
     "execution_count": 228,
     "metadata": {},
     "output_type": "execute_result"
    }
   ],
   "source": [
    "df.shape"
   ],
   "metadata": {
    "collapsed": false
   }
  },
  {
   "cell_type": "code",
   "execution_count": 229,
   "outputs": [],
   "source": [
    "df['release_date'] = [decade if str(decade)[-1] == 0 else f'{str(decade)[:3]}0' for decade in df.release_date]\n",
    "df['release_date'] = df.release_date.astype(int)\n",
    "df = df.sort_values(by='release_date')"
   ],
   "metadata": {
    "collapsed": false
   }
  },
  {
   "cell_type": "code",
   "execution_count": null,
   "outputs": [],
   "source": [
    "df"
   ],
   "metadata": {
    "collapsed": false
   }
  },
  {
   "cell_type": "code",
   "execution_count": 231,
   "outputs": [
    {
     "data": {
      "text/plain": "2010    5631\n2000    4781\n1980    4675\n1990    4457\n1970    3951\n1960    3409\n1950    1468\nName: release_date, dtype: int64"
     },
     "execution_count": 231,
     "metadata": {},
     "output_type": "execute_result"
    }
   ],
   "source": [
    "df.release_date.value_counts()"
   ],
   "metadata": {
    "collapsed": false
   }
  },
  {
   "cell_type": "markdown",
   "source": [
    "**Setup For Spotify API Use**"
   ],
   "metadata": {
    "collapsed": false
   }
  },
  {
   "cell_type": "code",
   "execution_count": 18,
   "outputs": [],
   "source": [
    "spotify_api = 'https://api.spotify.com/v1'\n",
    "playlists_ids = {1950: \"3sivPPUaXu3xvFghYCafV6\",\n",
    "                 1960: \"6BHjXb3Q1E3VIORY95nDoO\",\n",
    "                 1970: \"7LXey9CwaP0JCyHVn1xk6Y\",\n",
    "                 1980: \"2jqDPgE9kV1vS7jvMieUsZ\",\n",
    "                 1990: \"09VspjofcWG61Man3lwnrH\",\n",
    "                 2000: \"0QATGfhmGTGVbbDMHiIkb2\",\n",
    "                 2010: \"6lLFDVFKzidhfJLJ1HsE4t\"}"
   ],
   "metadata": {
    "collapsed": false,
    "ExecuteTime": {
     "start_time": "2023-03-30T23:17:50.736553Z",
     "end_time": "2023-03-30T23:17:50.750967Z"
    }
   }
  },
  {
   "cell_type": "markdown",
   "source": [
    "**Generate Token For Spotify API Requests**"
   ],
   "metadata": {
    "collapsed": false
   }
  },
  {
   "cell_type": "code",
   "execution_count": 13,
   "outputs": [],
   "source": [
    "# Generate token\n",
    "def generate_token() -> str:\n",
    "    f = open('data/token/auth_spotify_api.json')\n",
    "    auth_spotify_api = json.load(f)\n",
    "    response = requests.post('https://accounts.spotify.com/api/token',\n",
    "                             data={\n",
    "                                 'Content_type': 'application/x-www-form-urlencoded',\n",
    "                                 'grant_type': 'client_credentials',\n",
    "                                 'client_id': auth_spotify_api.get('client_id'),\n",
    "                                 'client_secret': auth_spotify_api.get('client_secret')\n",
    "                             }).json()['access_token']\n",
    "    return response"
   ],
   "metadata": {
    "collapsed": false,
    "ExecuteTime": {
     "start_time": "2023-03-30T23:17:21.916175Z",
     "end_time": "2023-03-30T23:17:21.933699Z"
    }
   }
  },
  {
   "cell_type": "code",
   "execution_count": 14,
   "outputs": [],
   "source": [
    "def regen_token(token: str, timestamp: float) -> tuple[str, float]:\n",
    "    t = time.time()\n",
    "    if t - timestamp >= 3600:\n",
    "        return generate_token(), t\n",
    "    return token, timestamp"
   ],
   "metadata": {
    "collapsed": false,
    "ExecuteTime": {
     "start_time": "2023-03-30T23:17:24.361973Z",
     "end_time": "2023-03-30T23:17:24.366554Z"
    }
   }
  },
  {
   "cell_type": "markdown",
   "source": [
    "**Generate Dataset From Scratch / Reset Existing Dataset**"
   ],
   "metadata": {
    "collapsed": false
   }
  },
  {
   "cell_type": "code",
   "execution_count": 235,
   "outputs": [],
   "source": [
    "pd.DataFrame({\n",
    "    'artist_name': pd.Series(dtype='str'),\n",
    "    'track_name': pd.Series(dtype='str'),\n",
    "    'release_date': pd.Series(dtype='str'),\n",
    "    'genre': pd.Series(dtype='str'),\n",
    "    'spotify_id': pd.Series(dtype='str'),\n",
    "    'playlist_id': pd.Series(dtype='str')\n",
    "}).to_csv('data/dataset.csv', index=False)"
   ],
   "metadata": {
    "collapsed": false
   }
  },
  {
   "cell_type": "code",
   "execution_count": 236,
   "outputs": [],
   "source": [
    "pd.DataFrame({\n",
    "    'artist_name': pd.Series(dtype='str'),\n",
    "    'track_name': pd.Series(dtype='str'),\n",
    "    'release_date': pd.Series(dtype='str'),\n",
    "    'genre': pd.Series(dtype='str'),\n",
    "    'error_type': pd.Series(dtype='str')\n",
    "}).to_csv('data/songs_on_error.csv', index=False)"
   ],
   "metadata": {
    "collapsed": false
   }
  },
  {
   "cell_type": "markdown",
   "source": [
    "**API Calls To Spotify**"
   ],
   "metadata": {
    "collapsed": false
   }
  },
  {
   "cell_type": "code",
   "execution_count": 237,
   "outputs": [],
   "source": [
    "timestamp = time.time()\n",
    "token = generate_token()\n",
    "for rows in df.values:\n",
    "    token, timestamp = regen_token(token, timestamp)\n",
    "    response = requests.get(f'{spotify_api}/search?q=track:{rows[1]}%20artist:{rows[0]}&type=track',\n",
    "                            headers={\n",
    "                                'Authorization': f'Bearer {token}'\n",
    "                            })\n",
    "    if response.status_code == 429:\n",
    "        break\n",
    "    if response.status_code == 200 and response.json()['tracks']['total'] > 0:\n",
    "        pd.DataFrame({'artist_name': rows[0],\n",
    "                      'track_name': rows[1],\n",
    "                      'release_date': rows[2],\n",
    "                      'genre': rows[3],\n",
    "                      'spotify_id': response.json()['tracks']['items'][0]['id'],\n",
    "                      'playlist_id': playlists_ids[rows[2]]}, index=[0]) \\\n",
    "            .to_csv('data/dataset.csv', index=False, header=False, mode='a')\n",
    "    else:\n",
    "        pd.DataFrame({'artist_name': rows[0],\n",
    "                      'track_name': rows[1],\n",
    "                      'release_date': rows[2],\n",
    "                      'genre': rows[3],\n",
    "                      'error_type': response.status_code}, index=[0]) \\\n",
    "            .to_csv('data/songs_on_error.csv', index=False, header=False, mode='a')"
   ],
   "metadata": {
    "collapsed": false
   }
  },
  {
   "cell_type": "markdown",
   "source": [
    "**Delete Rows Already Existing In Dataset**"
   ],
   "metadata": {
    "collapsed": false
   }
  },
  {
   "cell_type": "code",
   "execution_count": 9,
   "outputs": [
    {
     "data": {
      "text/plain": "2000    4533\n1980    4414\n1990    4257\n1970    3714\n1960    3170\n2010    2157\n1950    1344\nName: release_date, dtype: int64"
     },
     "execution_count": 9,
     "metadata": {},
     "output_type": "execute_result"
    }
   ],
   "source": [
    "dataset = pd.read_csv('data/dataset.csv')\n",
    "dataset.release_date.value_counts()"
   ],
   "metadata": {
    "collapsed": false,
    "ExecuteTime": {
     "start_time": "2023-03-30T23:16:13.756296Z",
     "end_time": "2023-03-30T23:16:13.792746Z"
    }
   }
  },
  {
   "cell_type": "code",
   "execution_count": 241,
   "outputs": [],
   "source": [
    "to_remove = pd.read_csv('data/dataset_to_erase.csv', usecols=['artist_name', 'track_name', 'release_date', 'genre'])"
   ],
   "metadata": {
    "collapsed": false
   }
  },
  {
   "cell_type": "code",
   "execution_count": 247,
   "outputs": [],
   "source": [
    "concat = pd.concat([dataset, to_remove])\n",
    "concat[concat.duplicated()].to_csv('data/dataset_to_erase.csv', index=False)"
   ],
   "metadata": {
    "collapsed": false
   }
  },
  {
   "cell_type": "markdown",
   "source": [
    "**Create Playlists From Dataset**"
   ],
   "metadata": {
    "collapsed": false
   }
  },
  {
   "cell_type": "code",
   "execution_count": 11,
   "outputs": [
    {
     "ename": "AttributeError",
     "evalue": "'DataFrameGroupBy' object has no attribute 'groupby'",
     "output_type": "error",
     "traceback": [
      "\u001B[1;31m---------------------------------------------------------------------------\u001B[0m",
      "\u001B[1;31mAttributeError\u001B[0m                            Traceback (most recent call last)",
      "Cell \u001B[1;32mIn[11], line 1\u001B[0m\n\u001B[1;32m----> 1\u001B[0m dataset \u001B[38;5;241m=\u001B[39m \u001B[43mdataset\u001B[49m\u001B[38;5;241;43m.\u001B[39;49m\u001B[43mgroupby\u001B[49m(by\u001B[38;5;241m=\u001B[39m\u001B[38;5;124m'\u001B[39m\u001B[38;5;124mrelease_date\u001B[39m\u001B[38;5;124m'\u001B[39m)\n\u001B[0;32m      2\u001B[0m dataset\n",
      "File \u001B[1;32m~\\.conda\\envs\\4IABD_PA\\lib\\site-packages\\pandas\\core\\groupby\\groupby.py:987\u001B[0m, in \u001B[0;36mGroupBy.__getattr__\u001B[1;34m(self, attr)\u001B[0m\n\u001B[0;32m    984\u001B[0m \u001B[38;5;28;01mif\u001B[39;00m attr \u001B[38;5;129;01min\u001B[39;00m \u001B[38;5;28mself\u001B[39m\u001B[38;5;241m.\u001B[39mobj:\n\u001B[0;32m    985\u001B[0m     \u001B[38;5;28;01mreturn\u001B[39;00m \u001B[38;5;28mself\u001B[39m[attr]\n\u001B[1;32m--> 987\u001B[0m \u001B[38;5;28;01mraise\u001B[39;00m \u001B[38;5;167;01mAttributeError\u001B[39;00m(\n\u001B[0;32m    988\u001B[0m     \u001B[38;5;124mf\u001B[39m\u001B[38;5;124m\"\u001B[39m\u001B[38;5;124m'\u001B[39m\u001B[38;5;132;01m{\u001B[39;00m\u001B[38;5;28mtype\u001B[39m(\u001B[38;5;28mself\u001B[39m)\u001B[38;5;241m.\u001B[39m\u001B[38;5;18m__name__\u001B[39m\u001B[38;5;132;01m}\u001B[39;00m\u001B[38;5;124m'\u001B[39m\u001B[38;5;124m object has no attribute \u001B[39m\u001B[38;5;124m'\u001B[39m\u001B[38;5;132;01m{\u001B[39;00mattr\u001B[38;5;132;01m}\u001B[39;00m\u001B[38;5;124m'\u001B[39m\u001B[38;5;124m\"\u001B[39m\n\u001B[0;32m    989\u001B[0m )\n",
      "\u001B[1;31mAttributeError\u001B[0m: 'DataFrameGroupBy' object has no attribute 'groupby'"
     ]
    }
   ],
   "source": [
    "dataset = dataset.groupby(by='release_date')\n",
    "dataset"
   ],
   "metadata": {
    "collapsed": false,
    "ExecuteTime": {
     "start_time": "2023-03-30T23:15:57.264476Z",
     "end_time": "2023-03-30T23:15:57.274991Z"
    }
   }
  },
  {
   "cell_type": "code",
   "execution_count": 31,
   "outputs": [
    {
     "name": "stdout",
     "output_type": "stream",
     "text": [
      "1950 : 1344\n",
      "3sivPPUaXu3xvFghYCafV6\n",
      "<Response [403]>\n"
     ]
    }
   ],
   "source": [
    "timestamp = time.time()\n",
    "token = generate_token()\n",
    "for decade in playlists_ids.keys():\n",
    "    token, timestamp = regen_token(token, timestamp)\n",
    "    spotify_id = [f\"spotify:track:{data}\" for data in dataset['spotify_id'].get_group(decade)]\n",
    "    print(f'{decade} : {len(spotify_id)}')\n",
    "    print(playlists_ids[decade])\n",
    "    for i in range(0, len(spotify_id), 100):\n",
    "        response = requests.post(f'{spotify_api}/playlists/{playlists_ids[decade]}/tracks',\n",
    "                                 data={\n",
    "                                     'uris': spotify_id[i:i + 100]\n",
    "                                 },\n",
    "                                 headers={\n",
    "                                     'Content-Type': 'application/x-www-form-urlencoded',\n",
    "                                     'Authorization': f'Bearer {token}'\n",
    "                                 })\n",
    "        print(response)\n",
    "        if response.status_code != 200:\n",
    "            break\n",
    "    break"
   ],
   "metadata": {
    "collapsed": false,
    "ExecuteTime": {
     "start_time": "2023-03-30T23:32:23.016891Z",
     "end_time": "2023-03-30T23:32:23.134778Z"
    }
   }
  }
 ],
 "metadata": {
  "kernelspec": {
   "display_name": "Python 3",
   "language": "python",
   "name": "python3"
  },
  "language_info": {
   "codemirror_mode": {
    "name": "ipython",
    "version": 2
   },
   "file_extension": ".py",
   "mimetype": "text/x-python",
   "name": "python",
   "nbconvert_exporter": "python",
   "pygments_lexer": "ipython2",
   "version": "2.7.6"
  }
 },
 "nbformat": 4,
 "nbformat_minor": 0
}
