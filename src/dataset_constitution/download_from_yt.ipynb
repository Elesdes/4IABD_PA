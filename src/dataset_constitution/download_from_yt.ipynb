{
 "cells": [
  {
   "attachments": {},
   "cell_type": "markdown",
   "metadata": {},
   "source": [
    "**Load Librairies**"
   ]
  },
  {
   "cell_type": "code",
   "execution_count": 16,
   "metadata": {},
   "outputs": [],
   "source": [
    "import asyncio\n",
    "import contextlib\n",
    "import os\n",
    "from typing import NoReturn\n",
    "\n",
    "import librosa\n",
    "import pandas as pd\n",
    "import yt_dlp as yt"
   ]
  },
  {
   "attachments": {},
   "cell_type": "markdown",
   "metadata": {},
   "source": [
    "**Load Data To Download**"
   ]
  },
  {
   "cell_type": "code",
   "execution_count": 17,
   "metadata": {},
   "outputs": [],
   "source": [
    "df = pd.read_csv(\"../../data/scraped/complete_kaggle_dataset.csv\", sep=\",\")"
   ]
  },
  {
   "attachments": {},
   "cell_type": "markdown",
   "metadata": {},
   "source": [
    "**Download Audio Files & Automatic Conversion To CSV**"
   ]
  },
  {
   "cell_type": "code",
   "execution_count": 18,
   "metadata": {},
   "outputs": [],
   "source": [
    "class YTDLSource:\n",
    "    @classmethod\n",
    "    async def from_url(cls, url, ytdl, *, loop=None):\n",
    "        loop = loop or asyncio.get_event_loop()\n",
    "        data = await loop.run_in_executor(\n",
    "            None, lambda: ytdl.extract_info(url)\n",
    "        )\n",
    "        if \"entries\" in data:\n",
    "            data = data[\"entries\"][0]\n",
    "        return ytdl.prepare_filename(data)"
   ]
  },
  {
   "cell_type": "code",
   "execution_count": 19,
   "metadata": {},
   "outputs": [],
   "source": [
    "async def download_audio_files(loop) -> NoReturn:\n",
    "    data = []\n",
    "    for row in df.values:\n",
    "        try:\n",
    "            path = f\"../../data/dataset/training/{row[0]}_{row[1]}\"\n",
    "            ytdl_format_options = {\n",
    "                \"outtmpl\": path,\n",
    "                \"format\": \"bestaudio/best\",\n",
    "                \"postprocessors\": [\n",
    "                    {\n",
    "                        \"key\": \"FFmpegExtractAudio\",\n",
    "                        \"preferredcodec\": \"wav\",\n",
    "                        \"preferredquality\": \"192\",\n",
    "                    }\n",
    "                ],\n",
    "                \"noplaylist\": False,\n",
    "                \"nocheckcertificate\": True,\n",
    "                \"ignoreerrors\": False,\n",
    "                \"quiet\": True,\n",
    "                \"no_warnings\": True,\n",
    "                \"default_search\": \"auto\",\n",
    "            }\n",
    "\n",
    "            ytdl = yt.YoutubeDL(ytdl_format_options)\n",
    "            await YTDLSource.from_url(f\"{row[0]}_{row[1]}\", ytdl=ytdl, loop=loop)\n",
    "            audio_file = f\"{path}.wav\"\n",
    "            y, sr = librosa.load(audio_file)\n",
    "            mfccs = librosa.feature.mfcc(y=y, sr=sr)\n",
    "            data.append((row[2], {row[0]}, {row[1]}, mfccs))\n",
    "            os.remove(audio_file)\n",
    "        except Exception as e:\n",
    "            print(f\"Error : {e}\")"
   ]
  },
  {
   "cell_type": "code",
   "execution_count": 20,
   "metadata": {},
   "outputs": [],
   "source": [
    "async def start():\n",
    "    await download_audio_files(asyncio.get_event_loop())"
   ]
  },
  {
   "cell_type": "code",
   "execution_count": null,
   "metadata": {},
   "outputs": [],
   "source": [
    "await start()"
   ]
  },
  {
   "cell_type": "code",
   "execution_count": 24,
   "metadata": {},
   "outputs": [],
   "source": [
    "dataset = pd.DataFrame(data, columns=[\"Decade\", \"Artist\", \"Song\", \"MFCCs\"])\n",
    "dataset.to_csv(\"dataset.csv\", index=False)"
   ]
  }
 ],
 "metadata": {
  "kernelspec": {
   "display_name": "4IABD_PA",
   "language": "python",
   "name": "python3"
  },
  "language_info": {
   "codemirror_mode": {
    "name": "ipython",
    "version": 3
   },
   "file_extension": ".py",
   "mimetype": "text/x-python",
   "name": "python",
   "nbconvert_exporter": "python",
   "pygments_lexer": "ipython3",
   "version": "3.10.9"
  },
  "orig_nbformat": 4
 },
 "nbformat": 4,
 "nbformat_minor": 2
}
